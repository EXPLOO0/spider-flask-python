{
 "cells": [
  {
   "cell_type": "code",
   "execution_count": 1,
   "outputs": [
    {
     "ename": "ModuleNotFoundError",
     "evalue": "No module named 'snownlp'",
     "output_type": "error",
     "traceback": [
      "\u001B[1;31m---------------------------------------------------------------------------\u001B[0m",
      "\u001B[1;31mModuleNotFoundError\u001B[0m                       Traceback (most recent call last)",
      "Cell \u001B[1;32mIn[1], line 1\u001B[0m\n\u001B[1;32m----> 1\u001B[0m \u001B[38;5;28;01mfrom\u001B[39;00m \u001B[38;5;21;01msnownlp\u001B[39;00m \u001B[38;5;28;01mimport\u001B[39;00m SnowNLP\n\u001B[0;32m      3\u001B[0m \u001B[38;5;28;01mdef\u001B[39;00m \u001B[38;5;21manalyze_sentiment_chinese\u001B[39m(comment):\n\u001B[0;32m      4\u001B[0m     s \u001B[38;5;241m=\u001B[39m SnowNLP(comment)\n",
      "\u001B[1;31mModuleNotFoundError\u001B[0m: No module named 'snownlp'"
     ]
    }
   ],
   "source": [
    "from snownlp import SnowNLP\n",
    "\n",
    "def analyze_sentiment_chinese(comment):\n",
    "    s = SnowNLP(comment)\n",
    "    sentiment_score = s.sentiments\n",
    "    # 情感得分介于0到1之间，越接近1表示正面情感，越接近0表示负面情感\n",
    "    if sentiment_score >= 0.5:\n",
    "        return 'Positive'\n",
    "    else:\n",
    "        return 'Negative'\n",
    "\n",
    "# 示例评论（中文）\n",
    "comments_chinese = [\n",
    "    \"这个产品真的很棒！\",\n",
    "    \"这个产品太糟糕了，简直糟透了。\",\n",
    "    \"这个产品还行，不算太好也不算太差。\"\n",
    "]\n",
    "\n",
    "for comment in comments_chinese:\n",
    "    sentiment = analyze_sentiment_chinese(comment)\n",
    "    print(f\"Comment: {comment} --> Sentiment: {sentiment}\")\n"
   ],
   "metadata": {
    "collapsed": false,
    "ExecuteTime": {
     "start_time": "2024-02-14T15:50:09.847134Z",
     "end_time": "2024-02-14T15:50:11.223245Z"
    }
   }
  }
 ],
 "metadata": {
  "kernelspec": {
   "display_name": "Python 3",
   "language": "python",
   "name": "python3"
  },
  "language_info": {
   "codemirror_mode": {
    "name": "ipython",
    "version": 2
   },
   "file_extension": ".py",
   "mimetype": "text/x-python",
   "name": "python",
   "nbconvert_exporter": "python",
   "pygments_lexer": "ipython2",
   "version": "2.7.6"
  }
 },
 "nbformat": 4,
 "nbformat_minor": 0
}
