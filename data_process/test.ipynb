{
 "cells": [
  {
   "cell_type": "code",
   "execution_count": 15,
   "outputs": [
    {
     "name": "stdout",
     "output_type": "stream",
     "text": [
      "处理commit数据---------\n"
     ]
    },
    {
     "name": "stderr",
     "output_type": "stream",
     "text": [
      "C:\\Users\\exploo\\AppData\\Local\\Temp\\ipykernel_10856\\4179121461.py:4: DtypeWarning: Columns (4) have mixed types. Specify dtype option on import or set low_memory=False.\n",
      "  df = pd.read_csv('../static/data/csv/data-commit.csv',encoding_errors='ignore', on_bad_lines='skip')\n"
     ]
    },
    {
     "data": {
      "text/plain": "             ProductId              ProductColor        ProductSize  \\\n0       10071371422432    星云灰｜i7-1160G7 16G 512G      default_value   \n1       10071371422432    星云灰｜i7-1160G7 16G 512G      default_value   \n2       10071371422432    星际蓝｜i5-1130G7 16G 512G      default_value   \n3       10071371422432    星云灰｜i7-1160G7 16G 512G      default_value   \n4       10071371422432  灰｜i7 16G 512G+原装键盘+原装手写笔      default_value   \n...                ...                       ...                ...   \n211227    100073248961                      深空灰色  M3 8+10核 16G+512G   \n211228    100073248961                      深空灰色     M3 8+10核 8G+1T   \n211229    100073248961                      深空灰色   M3 8+10核 8G+512G   \n211230    100073248961                      深空灰色  M3 8+10核 16G+512G   \n211231    100073248961                      深空灰色  M3 8+10核 16G+512G   \n\n                  ID  score                                            content  \n0       2.041438e+10    5.0  看了好多次，终于下手了，到货非常迅速，到手拆机很欣喜，干干净净的屏幕，操作也很方便，新手小白...  \n1       2.045524e+10    5.0  不错，很喜欢，颜色很好看，一直很喜欢这款，颜色比我想象的更好看。运行速度很快，办公很适合，屏...  \n2       2.046115e+10    5.0  看了多次，终于下手，到货迅速，机子官方正品，操作方便，客服回复的及时，满意，使用没有什么卡顿...  \n3       2.046133e+10    5.0  目前用着还是不错的，只做为办公用的，所以没装什么大的软件，两三天下来感觉不错，很流畅，尤其是...  \n4       2.040969e+10    5.0  到货后即根据验机攻略进行测试，正品新机，效果不错，值得购买，是不错的购物体验。屏幕效果：完好...  \n...              ...    ...                                                ...  \n211227  2.028783e+10    5.0                                 质量好价格便宜，适合视频编辑或者编程  \n211228  2.014991e+10    5.0                                 性能是不用说的，就是客服服务真的拉垮  \n211229  2.035110e+10    5.0                                      反应快，电子产品卖新款没错  \n211230  2.041914e+10    2.0                                    用着用着有时候非常卡，无语了都  \n211231  2.033737e+10    5.0                                      暂时用的还不错，继续使用中  \n\n[202040 rows x 6 columns]",
      "text/html": "<div>\n<style scoped>\n    .dataframe tbody tr th:only-of-type {\n        vertical-align: middle;\n    }\n\n    .dataframe tbody tr th {\n        vertical-align: top;\n    }\n\n    .dataframe thead th {\n        text-align: right;\n    }\n</style>\n<table border=\"1\" class=\"dataframe\">\n  <thead>\n    <tr style=\"text-align: right;\">\n      <th></th>\n      <th>ProductId</th>\n      <th>ProductColor</th>\n      <th>ProductSize</th>\n      <th>ID</th>\n      <th>score</th>\n      <th>content</th>\n    </tr>\n  </thead>\n  <tbody>\n    <tr>\n      <th>0</th>\n      <td>10071371422432</td>\n      <td>星云灰｜i7-1160G7 16G 512G</td>\n      <td>default_value</td>\n      <td>2.041438e+10</td>\n      <td>5.0</td>\n      <td>看了好多次，终于下手了，到货非常迅速，到手拆机很欣喜，干干净净的屏幕，操作也很方便，新手小白...</td>\n    </tr>\n    <tr>\n      <th>1</th>\n      <td>10071371422432</td>\n      <td>星云灰｜i7-1160G7 16G 512G</td>\n      <td>default_value</td>\n      <td>2.045524e+10</td>\n      <td>5.0</td>\n      <td>不错，很喜欢，颜色很好看，一直很喜欢这款，颜色比我想象的更好看。运行速度很快，办公很适合，屏...</td>\n    </tr>\n    <tr>\n      <th>2</th>\n      <td>10071371422432</td>\n      <td>星际蓝｜i5-1130G7 16G 512G</td>\n      <td>default_value</td>\n      <td>2.046115e+10</td>\n      <td>5.0</td>\n      <td>看了多次，终于下手，到货迅速，机子官方正品，操作方便，客服回复的及时，满意，使用没有什么卡顿...</td>\n    </tr>\n    <tr>\n      <th>3</th>\n      <td>10071371422432</td>\n      <td>星云灰｜i7-1160G7 16G 512G</td>\n      <td>default_value</td>\n      <td>2.046133e+10</td>\n      <td>5.0</td>\n      <td>目前用着还是不错的，只做为办公用的，所以没装什么大的软件，两三天下来感觉不错，很流畅，尤其是...</td>\n    </tr>\n    <tr>\n      <th>4</th>\n      <td>10071371422432</td>\n      <td>灰｜i7 16G 512G+原装键盘+原装手写笔</td>\n      <td>default_value</td>\n      <td>2.040969e+10</td>\n      <td>5.0</td>\n      <td>到货后即根据验机攻略进行测试，正品新机，效果不错，值得购买，是不错的购物体验。屏幕效果：完好...</td>\n    </tr>\n    <tr>\n      <th>...</th>\n      <td>...</td>\n      <td>...</td>\n      <td>...</td>\n      <td>...</td>\n      <td>...</td>\n      <td>...</td>\n    </tr>\n    <tr>\n      <th>211227</th>\n      <td>100073248961</td>\n      <td>深空灰色</td>\n      <td>M3 8+10核 16G+512G</td>\n      <td>2.028783e+10</td>\n      <td>5.0</td>\n      <td>质量好价格便宜，适合视频编辑或者编程</td>\n    </tr>\n    <tr>\n      <th>211228</th>\n      <td>100073248961</td>\n      <td>深空灰色</td>\n      <td>M3 8+10核 8G+1T</td>\n      <td>2.014991e+10</td>\n      <td>5.0</td>\n      <td>性能是不用说的，就是客服服务真的拉垮</td>\n    </tr>\n    <tr>\n      <th>211229</th>\n      <td>100073248961</td>\n      <td>深空灰色</td>\n      <td>M3 8+10核 8G+512G</td>\n      <td>2.035110e+10</td>\n      <td>5.0</td>\n      <td>反应快，电子产品卖新款没错</td>\n    </tr>\n    <tr>\n      <th>211230</th>\n      <td>100073248961</td>\n      <td>深空灰色</td>\n      <td>M3 8+10核 16G+512G</td>\n      <td>2.041914e+10</td>\n      <td>2.0</td>\n      <td>用着用着有时候非常卡，无语了都</td>\n    </tr>\n    <tr>\n      <th>211231</th>\n      <td>100073248961</td>\n      <td>深空灰色</td>\n      <td>M3 8+10核 16G+512G</td>\n      <td>2.033737e+10</td>\n      <td>5.0</td>\n      <td>暂时用的还不错，继续使用中</td>\n    </tr>\n  </tbody>\n</table>\n<p>202040 rows × 6 columns</p>\n</div>"
     },
     "execution_count": 15,
     "metadata": {},
     "output_type": "execute_result"
    }
   ],
   "source": [
    "import pandas as pd\n",
    "\n",
    "print('处理commit数据---------')\n",
    "df = pd.read_csv('../static/data/csv/data-commit.csv',encoding_errors='ignore', on_bad_lines='skip')\n",
    "# df = df.dropna()\n",
    "# df['score'] = df['score'].astype(int)  无法转换的删除\n",
    "df['score'] = pd.to_numeric(df['score'], errors='coerce')\n",
    "# df['score'] = df['score'].astype(int)\n",
    "df = df[df['score'].apply(lambda x: isinstance(x, float))]\n",
    "# 去除score列为空的\n",
    "df = df[df['score'].notnull()]\n",
    "df = df.fillna('default_value')  # value为要替换的值\n",
    "df = df.drop_duplicates()  # 删除重复值\n",
    "df"
   ],
   "metadata": {
    "collapsed": false,
    "ExecuteTime": {
     "start_time": "2024-02-14T15:50:09.847134Z",
     "end_time": "2024-02-14T15:50:11.223245Z"
    }
   }
  }
 ],
 "metadata": {
  "kernelspec": {
   "display_name": "Python 3",
   "language": "python",
   "name": "python3"
  },
  "language_info": {
   "codemirror_mode": {
    "name": "ipython",
    "version": 2
   },
   "file_extension": ".py",
   "mimetype": "text/x-python",
   "name": "python",
   "nbconvert_exporter": "python",
   "pygments_lexer": "ipython2",
   "version": "2.7.6"
  }
 },
 "nbformat": 4,
 "nbformat_minor": 0
}
